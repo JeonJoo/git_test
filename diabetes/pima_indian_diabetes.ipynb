{
 "cells": [
  {
   "cell_type": "markdown",
   "id": "norwegian-designer",
   "metadata": {},
   "source": [
    "### Indian_Diabetes_Data\n",
    "> 인디언의 여러 환경 요소가 당뇨병에 미치는 영향을 알아보고, 나아가 당뇨병의 여부를 예측하고자 한다."
   ]
  },
  {
   "cell_type": "markdown",
   "id": "invisible-cooking",
   "metadata": {},
   "source": [
    "### 데이터 변수명 참고\n",
    "- Pregnancies : 임신 횟수\n",
    "- Glucose : 포도당 부하 검사 수치\n",
    "- BloodPressure : 혈압(mm Hg)\n",
    "- SkinThickness : 팔 삼두근 뒤쪽의 피하지방 측정값(mm)\n",
    "- Insulin : 혈청 인슐린(mu U/ml)\n",
    "- BMI : 체질량지수 (체중(kg) / 키(m)^2)\n",
    "- DiabetesPedigreeFunction : 당뇨 내력 가중치 값\n",
    "- Age : 나이 > 구간화하자\n",
    "- Outcome : 클래스 결정 값 (0 또는 1)"
   ]
  },
  {
   "cell_type": "markdown",
   "id": "closing-reviewer",
   "metadata": {},
   "source": [
    "### 분석절차\n",
    "- "
   ]
  },
  {
   "cell_type": "code",
   "execution_count": 1,
   "id": "yellow-encyclopedia",
   "metadata": {},
   "outputs": [],
   "source": [
    "# 분석\n",
    "import pandas as pd\n",
    "import numpy as np\n",
    "# 시각화\n",
    "import matplotlib.pyplot as plt\n",
    "import seaborn as sns\n",
    "#머신러닝\n",
    "from sklearn.ensemble import RandomForestClassifier\n",
    "from sklearn.metrics import accuracy_score, f1_score, roc_auc_score, precision_score, recall_score, roc_curve, classification_report,precision_recall_curve, confusion_matrix\n",
    "from sklearn.preprocessing import StandardScaler, RobustScaler, MinMaxScaler, Binarizer, OneHotEncoder, LabelEncoder\n",
    "from sklearn.model_selection import train_test_split, cross_val_score, GridSearchCV, KFold\n",
    "\n",
    "import warnings\n",
    "warnings.filterwarnings(action = \"ignore\")"
   ]
  },
  {
   "cell_type": "code",
   "execution_count": 4,
   "id": "verified-tattoo",
   "metadata": {},
   "outputs": [
    {
     "name": "stdout",
     "output_type": "stream",
     "text": [
      "(768, 9)\n",
      "<class 'pandas.core.frame.DataFrame'>\n",
      "RangeIndex: 768 entries, 0 to 767\n",
      "Data columns (total 9 columns):\n",
      " #   Column                    Non-Null Count  Dtype  \n",
      "---  ------                    --------------  -----  \n",
      " 0   Pregnancies               768 non-null    int64  \n",
      " 1   Glucose                   768 non-null    int64  \n",
      " 2   BloodPressure             768 non-null    int64  \n",
      " 3   SkinThickness             768 non-null    int64  \n",
      " 4   Insulin                   768 non-null    int64  \n",
      " 5   BMI                       768 non-null    float64\n",
      " 6   DiabetesPedigreeFunction  768 non-null    float64\n",
      " 7   Age                       768 non-null    int64  \n",
      " 8   Outcome                   768 non-null    int64  \n",
      "dtypes: float64(2), int64(7)\n",
      "memory usage: 54.1 KB\n",
      "None\n",
      "   Pregnancies  Glucose  BloodPressure  SkinThickness  Insulin   BMI  \\\n",
      "0            6      148             72             35        0  33.6   \n",
      "1            1       85             66             29        0  26.6   \n",
      "2            8      183             64              0        0  23.3   \n",
      "3            1       89             66             23       94  28.1   \n",
      "4            0      137             40             35      168  43.1   \n",
      "\n",
      "   DiabetesPedigreeFunction  Age  Outcome  \n",
      "0                     0.627   50        1  \n",
      "1                     0.351   31        0  \n",
      "2                     0.672   32        1  \n",
      "3                     0.167   21        0  \n",
      "4                     2.288   33        1  \n",
      "0    500\n",
      "1    268\n",
      "Name: Outcome, dtype: int64\n"
     ]
    }
   ],
   "source": [
    "df = pd.read_csv(\"ml_exam/diabetes/diabetes.csv\")\n",
    "print(df.shape)\n",
    "print(df.info())\n",
    "print(df.head())\n",
    "print(df[\"Outcome\"].value_counts())    # 정상:당뇨 = 2:1 (약)"
   ]
  },
  {
   "cell_type": "markdown",
   "id": "controlled-suspect",
   "metadata": {},
   "source": [
    ">- 주어진 데이터는 모두 수치형이다.\n",
    ">- 결측치가 존재하지 않는다."
   ]
  },
  {
   "cell_type": "code",
   "execution_count": 5,
   "id": "expanded-library",
   "metadata": {},
   "outputs": [
    {
     "data": {
      "image/png": "[encoded data removed]",
      "text/plain": [
       "<Figure size 432x288 with 9 Axes>"
      ]
     },
     "metadata": {
      "needs_background": "light"
     },
     "output_type": "display_data"
    }
   ],
   "source": [
    "df.hist()\n",
    "plt.show()"
   ]
  },
  {
   "cell_type": "markdown",
   "id": "concrete-exercise",
   "metadata": {},
   "source": [
    ">- Glucose, BloodPressure, BMI 에서 0이 관측된다. (이상치 의심)\n",
    ">- Age 구간화 필요\n",
    ">- 데이터가 편중\n",
    ">- target feature : Outcome"
   ]
  },
  {
   "cell_type": "code",
   "execution_count": 7,
   "id": "italian-implementation",
   "metadata": {},
   "outputs": [
    {
     "name": "stdout",
     "output_type": "stream",
     "text": [
      "   Pregnancies  Glucose  BloodPressure  SkinThickness  Insulin   BMI  \\\n",
      "0            6      148             72             35        0  33.6   \n",
      "1            1       85             66             29        0  26.6   \n",
      "2            8      183             64              0        0  23.3   \n",
      "3            1       89             66             23       94  28.1   \n",
      "4            0      137             40             35      168  43.1   \n",
      "\n",
      "   DiabetesPedigreeFunction  Age  \n",
      "0                     0.627   50  \n",
      "1                     0.351   31  \n",
      "2                     0.672   32  \n",
      "3                     0.167   21  \n",
      "4                     2.288   33   0    1\n",
      "1    0\n",
      "2    1\n",
      "3    0\n",
      "4    1\n",
      "Name: Outcome, dtype: int64\n"
     ]
    }
   ],
   "source": [
    "X = df.drop(\"Outcome\", axis = 1)\n",
    "y = df[\"Outcome\"]\n",
    "print(X.head(), y.head())"
   ]
  },
  {
   "cell_type": "code",
   "execution_count": 8,
   "id": "narrative-failing",
   "metadata": {},
   "outputs": [
    {
     "data": {
      "image/png": "[encoded data removed]",
      "text/plain": [
       "<Figure size 720x720 with 2 Axes>"
      ]
     },
     "metadata": {
      "needs_background": "light"
     },
     "output_type": "display_data"
    }
   ],
   "source": [
    "plt.figure(figsize=(10,10))\n",
    "sns.heatmap(data=df.corr(), annot = True, fmt = \".2g\", cmap = \"Blues\")\n",
    "plt.show()"
   ]
  },
  {
   "cell_type": "markdown",
   "id": "durable-portfolio",
   "metadata": {},
   "source": [
    ">- Pregnancies, Glucose, BMI, Age 주요 항목\n",
    ">- DiabetesPedigreeFunction은 상대적으로 낮은 상관도를 보인다."
   ]
  },
  {
   "cell_type": "code",
   "execution_count": 63,
   "id": "ancient-edmonton",
   "metadata": {},
   "outputs": [
    {
     "name": "stdout",
     "output_type": "stream",
     "text": [
      "------최초점수-------\n",
      "정확도 0.8182  f1 0.7143  정밀도 0.7955  재현율 0.6481  roc_auc 0.7791\n",
      "[[91  9]\n",
      " [19 35]]\n"
     ]
    }
   ],
   "source": [
    "def get_score(y_test, pred, str = None):\n",
    "    print(\"------{}-------\".format(str))\n",
    "    acc = accuracy_score(y_test, pred)\n",
    "    f1 = f1_score(y_test, pred)\n",
    "    recall = recall_score(y_test, pred)\n",
    "    precision = precision_score(y_test, pred)\n",
    "    roc_auc = roc_auc_score(y_test, pred)\n",
    "\n",
    "    print(\"정확도 {:.4f}  f1 {:.4f}  정밀도 {:.4f}  재현율 {:.4f}  roc_auc {:.4f}\".format(acc, f1, precision, recall, roc_auc))\n",
    "    cf_matrix = confusion_matrix(y_test, pred)\n",
    "    print(cf_matrix)\n",
    "\n",
    "X_train, X_test, y_train, y_test = train_test_split(X, y, test_size = 0.2, random_state = 121)\n",
    "rf_model = RandomForestClassifier()\n",
    "rf_model.fit(X_train, y_train)\n",
    "pred = rf_model.predict(X_test)\n",
    "get_score(y_test, pred, \"최초점수\")"
   ]
  },
  {
   "cell_type": "markdown",
   "id": "interpreted-cleaner",
   "metadata": {},
   "source": [
    "> 재현율(당뇨병 환자 중 실제로 양성 판정을 받은 경우)이 60% 초중반 밖에 안된다."
   ]
  },
  {
   "cell_type": "markdown",
   "id": "concerned-badge",
   "metadata": {},
   "source": [
    "### 전처리 Data Preprocessing / 피쳐가공(Feature Engineering)\n",
    "-Scaler(정규화, 스케일링), outlier(이상치), 피쳐 병합 및 삭제, 구간화(범주화)"
   ]
  },
  {
   "cell_type": "code",
   "execution_count": 10,
   "id": "typical-lending",
   "metadata": {},
   "outputs": [
    {
     "name": "stdout",
     "output_type": "stream",
     "text": [
      "Pregnancies 111 14.45\n",
      "Glucose 5 0.65\n",
      "BloodPressure 35 4.56\n",
      "SkinThickness 227 29.56\n",
      "Insulin 374 48.7\n",
      "BMI 11 1.43\n",
      "DiabetesPedigreeFunction 0 0.0\n",
      "Age 0 0.0\n"
     ]
    }
   ],
   "source": [
    "for col in X.columns:\n",
    "    cnt = X[col][X[col]==0].count()\n",
    "    print(col, cnt, np.round(cnt/X.shape[0]*100, 2))"
   ]
  },
  {
   "cell_type": "code",
   "execution_count": 11,
   "id": "referenced-girlfriend",
   "metadata": {},
   "outputs": [
    {
     "name": "stdout",
     "output_type": "stream",
     "text": [
      "          Glucose  BloodPressure  SkinThickness     Insulin         BMI\n",
      "count  768.000000     768.000000     768.000000  768.000000  768.000000\n",
      "mean   120.894531      69.105469      20.536458   79.799479   31.992578\n",
      "std     31.972618      19.355807      15.952218  115.244002    7.884160\n",
      "min      0.000000       0.000000       0.000000    0.000000    0.000000\n",
      "25%     99.000000      62.000000       0.000000    0.000000   27.300000\n",
      "50%    117.000000      72.000000      23.000000   30.500000   32.000000\n",
      "75%    140.250000      80.000000      32.000000  127.250000   36.600000\n",
      "max    199.000000     122.000000      99.000000  846.000000   67.100000\n"
     ]
    }
   ],
   "source": [
    "print(X[[\"Glucose\", \"BloodPressure\", \"SkinThickness\", \"Insulin\", \"BMI\"]].describe())"
   ]
  },
  {
   "cell_type": "code",
   "execution_count": 95,
   "id": "settled-domain",
   "metadata": {},
   "outputs": [
    {
     "name": "stdout",
     "output_type": "stream",
     "text": [
      "          Glucose  BloodPressure  SkinThickness     Insulin         BMI\n",
      "count  768.000000     768.000000     768.000000  768.000000  768.000000\n",
      "mean   121.656250      72.386719      27.334635   94.652344   32.450911\n",
      "std     30.438286      12.096642       9.229014  105.547598    6.875366\n",
      "min     44.000000      24.000000       7.000000   14.000000   18.200000\n",
      "25%     99.750000      64.000000      23.000000   30.500000   27.500000\n",
      "50%    117.000000      72.000000      23.000000   31.250000   32.000000\n",
      "75%    140.250000      80.000000      32.000000  127.250000   36.600000\n",
      "max    199.000000     122.000000      99.000000  846.000000   67.100000\n",
      "------0 처리 후 점수-------\n",
      "정확도 0.8377  f1 0.7475  정밀도 0.8222  재현율 0.6852  roc_auc 0.8026\n",
      "[[92  8]\n",
      " [17 37]]\n"
     ]
    }
   ],
   "source": [
    "zero_col = [\"Glucose\", \"BloodPressure\", \"SkinThickness\", \"Insulin\", \"BMI\"]\n",
    "zero_col_median = X[zero_col].median().round(1)\n",
    "X[zero_col] = X[zero_col].replace(0, zero_col_median)\n",
    "print(X[zero_col].describe()) \n",
    "\n",
    "rf_model.fit(X_train, y_train)\n",
    "pred = rf_model.predict(X_test)\n",
    "get_score(y_test, pred, \"0 처리 후 점수\")"
   ]
  },
  {
   "cell_type": "markdown",
   "id": "weekly-twelve",
   "metadata": {},
   "source": [
    ">- 이상치(0인항목)를 중앙값을 이용하여 대체하였다.\n",
    ">- 재현율 60% 중후반으로 다소 증가하였다."
   ]
  },
  {
   "cell_type": "code",
   "execution_count": 81,
   "id": "banned-writer",
   "metadata": {},
   "outputs": [
    {
     "name": "stdout",
     "output_type": "stream",
     "text": [
      "     Age_cate  Age\n",
      "0           5   50\n",
      "1           3   31\n",
      "2           3   32\n",
      "3           2   21\n",
      "4           3   33\n",
      "..        ...  ...\n",
      "763         6   63\n",
      "764         2   27\n",
      "765         3   30\n",
      "766         4   47\n",
      "767         2   23\n",
      "\n",
      "[768 rows x 2 columns]\n",
      "<class 'pandas.core.frame.DataFrame'>\n",
      "RangeIndex: 768 entries, 0 to 767\n",
      "Data columns (total 15 columns):\n",
      " #   Column                    Non-Null Count  Dtype  \n",
      "---  ------                    --------------  -----  \n",
      " 0   Pregnancies               768 non-null    int64  \n",
      " 1   Glucose                   768 non-null    int64  \n",
      " 2   BloodPressure             768 non-null    int64  \n",
      " 3   SkinThickness             768 non-null    int64  \n",
      " 4   Insulin                   768 non-null    float64\n",
      " 5   BMI                       768 non-null    float64\n",
      " 6   DiabetesPedigreeFunction  768 non-null    float64\n",
      " 7   Age                       768 non-null    int64  \n",
      " 8   OH_Age_cate_2             768 non-null    uint8  \n",
      " 9   OH_Age_cate_3             768 non-null    uint8  \n",
      " 10  OH_Age_cate_4             768 non-null    uint8  \n",
      " 11  OH_Age_cate_5             768 non-null    uint8  \n",
      " 12  OH_Age_cate_6             768 non-null    uint8  \n",
      " 13  OH_Age_cate_7             768 non-null    uint8  \n",
      " 14  OH_Age_cate_8             768 non-null    uint8  \n",
      "dtypes: float64(3), int64(5), uint8(7)\n",
      "memory usage: 53.4 KB\n",
      "None\n",
      "   Pregnancies  Glucose  BloodPressure  SkinThickness  Insulin   BMI  \\\n",
      "0            6      148             72             35     30.5  33.6   \n",
      "1            1       85             66             29     30.5  26.6   \n",
      "2            8      183             64             23     30.5  23.3   \n",
      "3            1       89             66             23     94.0  28.1   \n",
      "4            0      137             40             35    168.0  43.1   \n",
      "\n",
      "   DiabetesPedigreeFunction  Age  OH_Age_cate_2  OH_Age_cate_3  OH_Age_cate_4  \\\n",
      "0                     0.627   50              0              0              0   \n",
      "1                     0.351   31              0              1              0   \n",
      "2                     0.672   32              0              1              0   \n",
      "3                     0.167   21              1              0              0   \n",
      "4                     2.288   33              0              1              0   \n",
      "\n",
      "   OH_Age_cate_5  OH_Age_cate_6  OH_Age_cate_7  OH_Age_cate_8  \n",
      "0              1              0              0              0  \n",
      "1              0              0              0              0  \n",
      "2              0              0              0              0  \n",
      "3              0              0              0              0  \n",
      "4              0              0              0              0  \n"
     ]
    }
   ],
   "source": [
    "X[\"Age_cate\"] = X[\"Age\"].apply(lambda x : int(x//10))\n",
    "print(X[[\"Age_cate\", \"Age\"]])\n",
    "X = pd.get_dummies(data = X , columns = [\"Age_cate\"], prefix = \"OH_Age_cate\")\n",
    "print(X.info())\n",
    "print(X.head())"
   ]
  },
  {
   "cell_type": "markdown",
   "id": "painted-composition",
   "metadata": {},
   "source": [
    "> OH_Age_cate2 : 주어진 데이터에서 가장 어린 사람은 27살이다."
   ]
  },
  {
   "cell_type": "code",
   "execution_count": 92,
   "id": "floppy-margin",
   "metadata": {},
   "outputs": [
    {
     "name": "stdout",
     "output_type": "stream",
     "text": [
      "------나이 구간화,원핫인코딩 후 점수-------\n",
      "정확도 0.8117  f1 0.7071  정밀도 0.7778  재현율 0.6481  roc_auc 0.7741\n",
      "[[90 10]\n",
      " [19 35]]\n"
     ]
    }
   ],
   "source": [
    "rf_model.fit(X_train, y_train)\n",
    "pred = rf_model.predict(X_test)\n",
    "get_score(y_test, pred, \"나이 구간화,원핫인코딩 후 점수\")"
   ]
  },
  {
   "cell_type": "code",
   "execution_count": 99,
   "id": "remarkable-member",
   "metadata": {},
   "outputs": [
    {
     "name": "stdout",
     "output_type": "stream",
     "text": [
      "------스케일링 된 점수-------\n",
      "정확도 0.8506  f1 0.7677  정밀도 0.8444  재현율 0.7037  roc_auc 0.8169\n",
      "[[93  7]\n",
      " [16 38]]\n"
     ]
    }
   ],
   "source": [
    "scaler = StandardScaler()\n",
    "X_scaler = scaler.fit_transform(X)\n",
    "\n",
    "X_train, X_test, y_train, y_test = train_test_split(X_scaler, y, test_size = 0.2, random_state = 121)\n",
    "rf_model = RandomForestClassifier()\n",
    "rf_model.fit(X_train, y_train)\n",
    "pred = rf_model.predict(X_test)\n",
    "get_score(y_test, pred, \"스케일링 된 점수\") "
   ]
  },
  {
   "cell_type": "code",
   "execution_count": 100,
   "id": "floating-minority",
   "metadata": {},
   "outputs": [
    {
     "name": "stdout",
     "output_type": "stream",
     "text": [
      "56 56 55\n"
     ]
    },
    {
     "data": {
      "image/png": "[encoded data removed]",
      "text/plain": [
       "<Figure size 432x288 with 1 Axes>"
      ]
     },
     "metadata": {
      "needs_background": "light"
     },
     "output_type": "display_data"
    }
   ],
   "source": [
    "proba = rf_model.predict_proba(X_test)    # 0 또는 1이 나올 각각의 확률, 같을때는 0\n",
    "precision, recall, th = precision_recall_curve(y_test, proba[:, 1])\n",
    "print(len(precision), len(recall), len(th))    # 개수 차이가 있으므로 개수를 맞춘후에 차트를 그려보자\n",
    "\n",
    "plt.plot(th, precision[:len(th)], label = \"precision\")\n",
    "plt.plot(th, recall[:len(th)], label = \"recall\")\n",
    "plt.xlabel(\"threadshold\")\n",
    "plt.ylabel(\"precision & recall value\")\n",
    "plt.legend()\n",
    "plt.grid()\n",
    "plt.show() "
   ]
  },
  {
   "cell_type": "markdown",
   "id": "funny-residence",
   "metadata": {},
   "source": [
    "> 임계치가 약 0.45 수준이다"
   ]
  },
  {
   "cell_type": "code",
   "execution_count": 105,
   "id": "amended-success",
   "metadata": {},
   "outputs": [
    {
     "data": {
      "image/png": "[encoded data removed]",
      "text/plain": [
       "<Figure size 432x288 with 1 Axes>"
      ]
     },
     "metadata": {
      "needs_background": "light"
     },
     "output_type": "display_data"
    }
   ],
   "source": [
    "## roc_curve : FPR/ TPR 비율\n",
    "fpr, tpr, th = roc_curve(y_test, proba[:,1])\n",
    "auc = roc_auc_score(y_test, proba[:, 1].reshape(-1, 1))\n",
    "plt.plot(fpr, tpr, label = \"ROC\")\n",
    "plt.plot([0,1], [0,1], label = \"th:0.5\")\n",
    "plt.title(auc)\n",
    "plt.xlabel(\"FPR\")\n",
    "plt.ylabel(\"TPR(recall)\")\n",
    "plt.grid()\n",
    "plt.show()"
   ]
  },
  {
   "cell_type": "code",
   "execution_count": 102,
   "id": "successful-liquid",
   "metadata": {},
   "outputs": [
    {
     "name": "stdout",
     "output_type": "stream",
     "text": [
      "N : P 0.4 0.6\n",
      "------None-------\n",
      "정확도 0.8312  f1 0.7174  정밀도 0.8684  재현율 0.6111  roc_auc 0.7806\n",
      "[[95  5]\n",
      " [21 33]]\n",
      "0.9220370370370371\n",
      "N : P 0.43 0.5700000000000001\n",
      "------None-------\n",
      "정확도 0.8377  f1 0.7423  정밀도 0.8372  재현율 0.6667  roc_auc 0.7983\n",
      "[[93  7]\n",
      " [18 36]]\n",
      "0.9185185185185185\n",
      "N : P 0.45 0.55\n",
      "------None-------\n",
      "정확도 0.8442  f1 0.7600  정밀도 0.8261  재현율 0.7037  roc_auc 0.8119\n",
      "[[92  8]\n",
      " [16 38]]\n",
      "0.919074074074074\n",
      "N : P 0.47 0.53\n",
      "------None-------\n",
      "정확도 0.8701  f1 0.7917  정밀도 0.9048  재현율 0.7037  roc_auc 0.8319\n",
      "[[96  4]\n",
      " [16 38]]\n",
      "0.9263888888888889\n",
      "N : P 0.49 0.51\n",
      "------None-------\n",
      "정확도 0.8377  f1 0.7475  정밀도 0.8222  재현율 0.6852  roc_auc 0.8026\n",
      "[[92  8]\n",
      " [17 37]]\n",
      "0.9197222222222222\n",
      "N : P 0.51 0.49\n",
      "------None-------\n",
      "정확도 0.8312  f1 0.7347  정밀도 0.8182  재현율 0.6667  roc_auc 0.7933\n",
      "[[92  8]\n",
      " [18 36]]\n",
      "0.9216666666666667\n",
      "N : P 0.53 0.47\n",
      "------None-------\n",
      "정확도 0.8247  f1 0.7158  정밀도 0.8293  재현율 0.6296  roc_auc 0.7798\n",
      "[[93  7]\n",
      " [20 34]]\n",
      "0.9172222222222222\n"
     ]
    }
   ],
   "source": [
    "my_th = [.4, .43, .45, .47, .49, .51, .53]\n",
    "for th in my_th:\n",
    "    print(\"N : P\", th, 1-th)\n",
    "    rf_model.fit(X_train, y_train)\n",
    "    pred = rf_model.predict(X_test)\n",
    "    proba = rf_model.predict_proba(X_test)\n",
    "    get_score(y_test, pred)\n",
    "\n",
    "    bn = Binarizer(threshold = th)    # 임계치를 기준으로 >>> 여기서는 0보다 크면 1 작으면 0이다.\n",
    "    fit_trans = bn.fit_transform(proba[:,1].reshape(-1,1))\n",
    "    auc = roc_auc_score(y_test, proba[:,1].reshape(-1,1))\n",
    "    print(auc)"
   ]
  },
  {
   "cell_type": "code",
   "execution_count": 104,
   "id": "moving-honduras",
   "metadata": {},
   "outputs": [
    {
     "name": "stdout",
     "output_type": "stream",
     "text": [
      "best_estimator_ RandomForestClassifier(max_depth=9, min_samples_leaf=5, random_state=121)\n",
      "best_params_ {'max_depth': 9, 'min_samples_leaf': 5, 'n_estimators': 100, 'random_state': 121}\n",
      "best_score_ 0.5989799477085107\n",
      "GridSearchCV 평균 정확도 :  0.7373972633168955\n",
      "GridSearchCV 평균 F1 :  0.5810624465147757\n",
      "<class 'pandas.core.frame.DataFrame'>\n",
      "RangeIndex: 12 entries, 0 to 11\n",
      "Data columns (total 25 columns):\n",
      " #   Column                  Non-Null Count  Dtype  \n",
      "---  ------                  --------------  -----  \n",
      " 0   mean_fit_time           12 non-null     float64\n",
      " 1   std_fit_time            12 non-null     float64\n",
      " 2   mean_score_time         12 non-null     float64\n",
      " 3   std_score_time          12 non-null     float64\n",
      " 4   param_max_depth         12 non-null     object \n",
      " 5   param_min_samples_leaf  12 non-null     object \n",
      " 6   param_n_estimators      12 non-null     object \n",
      " 7   param_random_state      12 non-null     object \n",
      " 8   params                  12 non-null     object \n",
      " 9   split0_test_acc         12 non-null     float64\n",
      " 10  split1_test_acc         12 non-null     float64\n",
      " 11  split2_test_acc         12 non-null     float64\n",
      " 12  split3_test_acc         12 non-null     float64\n",
      " 13  split4_test_acc         12 non-null     float64\n",
      " 14  mean_test_acc           12 non-null     float64\n",
      " 15  std_test_acc            12 non-null     float64\n",
      " 16  rank_test_acc           12 non-null     int32  \n",
      " 17  split0_test_f1          12 non-null     float64\n",
      " 18  split1_test_f1          12 non-null     float64\n",
      " 19  split2_test_f1          12 non-null     float64\n",
      " 20  split3_test_f1          12 non-null     float64\n",
      " 21  split4_test_f1          12 non-null     float64\n",
      " 22  mean_test_f1            12 non-null     float64\n",
      " 23  std_test_f1             12 non-null     float64\n",
      " 24  rank_test_f1            12 non-null     int32  \n",
      "dtypes: float64(18), int32(2), object(5)\n",
      "memory usage: 2.4+ KB\n",
      "None\n",
      "GridSearchCV 평균 정확도 :  0.7373972633168955\n",
      "GridSearchCV 평균 F1 :  0.5810624465147757\n"
     ]
    }
   ],
   "source": [
    "# 데이터 적은 경우 >> 데이터 증강 K-Fold, st.K-Fold, cross_val_score, GridSearchCV\n",
    "# 데이터 증강 후 튜닝 GridSearchCV\n",
    "\n",
    "my_score={\"acc\":\"accuracy\", \"f1\":\"f1\"}\n",
    "\n",
    "my_hyper_param = {  \"n_estimators\"      :[100] ,\n",
    "                    \"max_depth\"        :[7,9,11],\n",
    "                    \"min_samples_leaf\" :[3,5,7,9],\n",
    "                    \"random_state\" : [121,]\n",
    "                 }\n",
    "\n",
    "gcv_model = GridSearchCV(rf_model, param_grid=my_hyper_param, scoring=my_score, refit=\"f1\", cv=5, verbose=0)\n",
    "\n",
    "gcv_model.fit(X_train, y_train)\n",
    "# predict : 시험\n",
    "print(\"best_estimator_\", gcv_model.best_estimator_)\n",
    "print(\"best_params_\",    gcv_model.best_params_)\n",
    "print(\"best_score_\" ,    gcv_model.best_score_)\n",
    "\n",
    "print(\"GridSearchCV 평균 정확도 : \" , gcv_model.cv_results_[\"mean_test_acc\"].mean())  #mean_test_(본인의score키값)\n",
    "print(\"GridSearchCV 평균 F1 : \"    , gcv_model.cv_results_[\"mean_test_f1\"].mean())\n",
    "\n",
    "gcv_df = pd.DataFrame(gcv_model.cv_results_)\n",
    "print(gcv_df.info())\n",
    "print(\"GridSearchCV 평균 정확도 : \" , gcv_df[\"mean_test_acc\"].mean())\n",
    "print(\"GridSearchCV 평균 F1 : \"    , gcv_df[\"mean_test_f1\"].mean())"
   ]
  },
  {
   "cell_type": "markdown",
   "id": "czech-typing",
   "metadata": {},
   "source": [
    "### 결과가 매우 좋지 않다. 상단에서 나온 결과는 오버 피팅임을 알 수 있다."
   ]
  },
  {
   "cell_type": "code",
   "execution_count": null,
   "id": "close-librarian",
   "metadata": {},
   "outputs": [],
   "source": []
  }
 ],
 "metadata": {
  "kernelspec": {
   "display_name": "Python 3",
   "language": "python",
   "name": "python3"
  },
  "language_info": {
   "codemirror_mode": {
    "name": "ipython",
    "version": 3
   },
   "file_extension": ".py",
   "mimetype": "text/x-python",
   "name": "python",
   "nbconvert_exporter": "python",
   "pygments_lexer": "ipython3",
   "version": "3.8.6"
  }
 },
 "nbformat": 4,
 "nbformat_minor": 5
}
